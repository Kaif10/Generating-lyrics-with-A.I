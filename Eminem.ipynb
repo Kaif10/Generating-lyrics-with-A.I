{
  "nbformat": 4,
  "nbformat_minor": 0,
  "metadata": {
    "colab": {
      "name": "Eminem.ipynb",
      "provenance": [],
      "collapsed_sections": [],
      "authorship_tag": "ABX9TyOKbVilBux/n1Zf5pils4l2",
      "include_colab_link": true
    },
    "kernelspec": {
      "name": "python3",
      "display_name": "Python 3"
    }
  },
  "cells": [
    {
      "cell_type": "markdown",
      "metadata": {
        "id": "view-in-github",
        "colab_type": "text"
      },
      "source": [
        "<a href=\"https://colab.research.google.com/github/Kaif10/Generating-lyrics-with-A.I/blob/master/Eminem.ipynb\" target=\"_parent\"><img src=\"https://colab.research.google.com/assets/colab-badge.svg\" alt=\"Open In Colab\"/></a>"
      ]
    },
    {
      "cell_type": "markdown",
      "metadata": {
        "id": "C21MRhQT5wGY",
        "colab_type": "text"
      },
      "source": [
        "#Generating new Eminem's lyrics with A.I"
      ]
    },
    {
      "cell_type": "code",
      "metadata": {
        "id": "LygPW1oiM1Bm",
        "colab_type": "code",
        "colab": {}
      },
      "source": [
        "#import required dependencies\n",
        "import tensorflow as tf\n",
        "from tensorflow.keras.preprocessing.sequence import pad_sequences\n",
        "from tensorflow.keras.layers import Embedding, LSTM, Dense, Bidirectional\n",
        "from tensorflow.keras.preprocessing.text import Tokenizer\n",
        "from tensorflow.keras.models import Sequential\n",
        "from tensorflow.keras.optimizers import Adam\n",
        "import numpy as np "
      ],
      "execution_count": 0,
      "outputs": []
    },
    {
      "cell_type": "markdown",
      "metadata": {
        "id": "UCmkfBH-ttt1",
        "colab_type": "text"
      },
      "source": [
        "Our data contains lyrics of Eminem's most famous song Rap God."
      ]
    },
    {
      "cell_type": "code",
      "metadata": {
        "id": "3L1uuf_F73nY",
        "colab_type": "code",
        "colab": {}
      },
      "source": [
        "#define tokenizer\n",
        "tokenizer = Tokenizer()\n",
        "data = open('Eminem_songss.txt').read()\n",
        "corpus = data.lower().split(\"\\n\")\n",
        "tokenizer.fit_on_texts(corpus)\n",
        "total_words = len(tokenizer.word_index) + 1"
      ],
      "execution_count": 0,
      "outputs": []
    },
    {
      "cell_type": "markdown",
      "metadata": {
        "id": "mWR4hVQbMrSc",
        "colab_type": "text"
      },
      "source": [
        "Corpus of lyrics"
      ]
    },
    {
      "cell_type": "code",
      "metadata": {
        "id": "xWSi7ZgB8D53",
        "colab_type": "code",
        "outputId": "3261e34a-13f9-45c0-a78d-4d482b17f7ef",
        "colab": {
          "base_uri": "https://localhost:8080/",
          "height": 1000
        }
      },
      "source": [
        "corpus"
      ],
      "execution_count": 0,
      "outputs": [
        {
          "output_type": "execute_result",
          "data": {
            "text/plain": [
              "['look, i was gonna go easy on you and not to hurt your feelings',\n",
              " \"but i'm only going to get this one chance\",\n",
              " \"something's wrong, i can feel it (six minutes, slim shady, you're on)\",\n",
              " \"just a feeling i've got, like something's about to happen, but i don't know what\",\n",
              " \"if that means, what i think it means, we're in trouble, big trouble,\",\n",
              " \"and if he is as bananas as you say, i'm not taking any chances\",\n",
              " 'you were just what the doctor ordered',\n",
              " \"i'm beginning to feel like a rap god, rap god\",\n",
              " 'all my people from the front to the back nod, back nod',\n",
              " 'now who thinks their arms are long enough to slap box, slap box?',\n",
              " 'they said i rap like a robot, so call me rapbot',\n",
              " 'but for me to rap like a computer must be in my genes',\n",
              " 'i got a laptop in my back pocket',\n",
              " \"my pen'll go off when i half-cock it\",\n",
              " 'got a fat knot from that rap profit',\n",
              " 'made a living and a killing off it',\n",
              " 'ever since bill clinton was still in office',\n",
              " 'with monica lewinsky feeling on his nut-sack',\n",
              " \"i'm an mc still as honest\",\n",
              " \"but as rude and indecent as all hell syllables, killaholic (kill 'em all with)\",\n",
              " 'this slickety, gibbedy, hibbedy hip hop',\n",
              " \"you don't really wanna get into a pissing match with this rappidy brat\",\n",
              " 'packing a mac in the back of the ac, backpack rap crap, yep, yackidy-yac',\n",
              " \"and at the exact same time i attempt these lyrical acrobat stunts while i'm practicing\",\n",
              " \"that i'll still be able to break a motherfuckin' table\",\n",
              " 'over the back of a couple of faggots and crack it in half',\n",
              " 'only realized it was ironic i was signed to aftermath after the fact',\n",
              " 'how could i not blow? all i do is drop f-bombs, feel my wrath of attack',\n",
              " \"rappers are having a rough time period, here's a maxipad\",\n",
              " \"it's actually disastrously bad\",\n",
              " \"for the wack while i'm masterfully constructing this masterpiece as\",\n",
              " \"i'm beginning to feel like a rap god, rap god\",\n",
              " 'all my people from the front to the back nod, back nod',\n",
              " 'now who thinks their arms are long enough to slap box, slap box?',\n",
              " \"let me show you maintaining this shit ain't that hard, that hard\",\n",
              " 'everybody want the key and the secret to rap immortality like i have got',\n",
              " \"well, to be truthful the blueprint's simply rage and youthful exuberance\",\n",
              " 'everybody loves to root for a nuisance',\n",
              " 'hit the earth like an asteroid, did nothing but shoot for the moon since',\n",
              " \"mc's get taken to school with this music\",\n",
              " \"'cause i use it as a vehicle to bus the rhyme\",\n",
              " 'now i lead a new school full of students',\n",
              " \"me? i'm a product of rakim, lakim shabazz, 2pac n-\",\n",
              " '-w.a, cube, hey, doc, ren, yella, eazy, thank you, they got slim',\n",
              " 'inspired enough to one day grow up, blow up and be in a position',\n",
              " \"to meet run dmc and induct them into the motherfuckin' rock n'\",\n",
              " 'roll hall of fame',\n",
              " 'even though i walk in the church and burst in a ball of flames',\n",
              " 'only hall of fame i be inducted in is the alcohol of fame',\n",
              " 'on the wall of shame',\n",
              " \"you fags think it's all a game 'til i walk a flock of flames\",\n",
              " 'off of planking, tell me what in the fuck are you thinking?',\n",
              " 'little gay looking boy',\n",
              " 'so gay i can barely say it with a straight face looking boy',\n",
              " 'you witnessing a mass occur',\n",
              " 'like you watching a church gathering take place looking boy',\n",
              " \"oy vey, that boy's gay, that's all they say looking boy\",\n",
              " 'you get a thumbs up, pat on the back',\n",
              " 'and a \"way to go\" from your label everyday looking boy',\n",
              " 'hey, looking boy, what you say looking boy?',\n",
              " 'i got a \"hell yeah\" from dre looking boy',\n",
              " \"i'mma work for everything i have\",\n",
              " 'never ask nobody for shit, get outta my face looking boy',\n",
              " \"basically boy you're never gonna be capable\",\n",
              " 'to keep up with the same pace looking boy',\n",
              " \"'cause i'm beginning to feel like a rap god, rap god\",\n",
              " 'all my people from the front to the back nod, back nod',\n",
              " \"the way i'm racing around the track, call me nascar, nascar\",\n",
              " 'dale earnhardt of the trailer park, the white trash god',\n",
              " \"kneel before general zod this planet's krypton, no asgard, asgard\",\n",
              " \"so you be thor and i'll be odin, you rodent, i'm omnipotent\",\n",
              " \"let off then i'm reloading immediately with these bombs i'm totin'\",\n",
              " 'and i should not be woken',\n",
              " \"i'm the walking dead, but i'm just a talking head, a zombie floating\",\n",
              " 'but i got your mom deep throating',\n",
              " \"i'm out my ramen noodle, we have nothing in common, poodle\",\n",
              " \"i'm a doberman, pinch yourself in the arm and pay homage, pupil\",\n",
              " \"it's me, my honesty's brutal\",\n",
              " \"but it's honestly futile if i don't utilize what i do though\",\n",
              " 'for good at least once in a while',\n",
              " 'so i wanna make sure somewhere in this chicken scratch i scribble and doodle',\n",
              " 'enough rhymes to maybe to try and help get some people through tough times',\n",
              " \"but i gotta keep a few punchlines just in case 'cause even you unsigned\",\n",
              " \"rappers are hungry looking at me like it's lunchtime\",\n",
              " 'i know there was a time where once i',\n",
              " \"was king of the underground, but i still rap like i'm on my pharoahe monch grind\",\n",
              " 'so i crunch rhymes, but sometimes when you combine',\n",
              " 'appeal with the skin color of mine',\n",
              " 'you get too big and here they come trying to',\n",
              " 'censor you like that one line i said on \"i\\'m back\" from the mathers lp',\n",
              " 'one when i tried to say \"i\\'ll take seven kids from columbine',\n",
              " 'put \\'em all in a line, add an ak-47, a revolver and a nine\"',\n",
              " \"see if i get away with it now that i ain't as big as i was, but i'm\",\n",
              " \"morphin' into an immortal coming through the portal\",\n",
              " \"you're stuck in a time warp from 2004 though\",\n",
              " \"and i don't know what the fuck that you rhyme for\",\n",
              " \"you're pointless as rapunzel with fucking cornrows\",\n",
              " 'you write normal, fuck being normal',\n",
              " 'and i just bought a new raygun from the future',\n",
              " 'just to come and shoot ya like when fabolous made ray j mad',\n",
              " \"'cause fab said he looked like a fag at maywhether's pad\",\n",
              " \"singin' to a man while they played piano\",\n",
              " 'man, oh man, that was a 24/7 special on the cable channel',\n",
              " 'so ray j went straight to the radio station the very next day',\n",
              " '\"hey, fab, i\\'mma kill you\"',\n",
              " 'lyrics coming at you at supersonic speed, (jj fad)',\n",
              " \"uh, sama lamaa duma lamaa you assuming i'm a human\",\n",
              " \"what i gotta do to get it through to you i'm superhuman\",\n",
              " \"innovative and i'm made of rubber\",\n",
              " \"so that anything you say is ricocheting off of me and it'll glue to you\",\n",
              " \"i'm devastating, more than ever demonstrating\",\n",
              " \"how to give a motherfuckin' audience a feeling like it's levitating\",\n",
              " 'never fading, and i know that the haters are forever waiting',\n",
              " \"for the day that they can say i fell off, they'd be celebrating\",\n",
              " \"'cause i know the way to get 'em motivated\",\n",
              " 'i make elevating music, you make elevator music',\n",
              " \"oh, he's too mainstream\",\n",
              " \"well, that's what they do when they get jealous, they confuse it\",\n",
              " \"it's not hip hop, it's pop, 'cause i found a hella way to fuse it\",\n",
              " 'with rock, shock rap with doc',\n",
              " \"throw on lose yourself and make 'em lose it\",\n",
              " \"i don't know how to make songs like that\",\n",
              " \"i don't know what words to use\",\n",
              " 'let me know when it occurs to you',\n",
              " \"while i'm ripping any one of these verses diverse as you\",\n",
              " \"it's curtains, i'm inadvertently hurtin' you\",\n",
              " 'how many verses i gotta murder to',\n",
              " 'prove that if you were half as nice, your songs you can sacrifice virgins too uh!',\n",
              " 'school flunkie, pill junky',\n",
              " 'but look at the accolades the skills brung me',\n",
              " 'full of myself, but still hungry',\n",
              " \"i bully myself 'cause i make me do what i put my mind to\",\n",
              " \"and i'm a million leagues above you, ill when i speak in tongues\",\n",
              " \"but it's still tongue in cheek, fuck you\",\n",
              " \"i'm drunk so satan take the fucking wheel, i'm asleep in the front seat\",\n",
              " 'bumping heavy d and the boys, still chunky, but funky',\n",
              " \"but in my head there's something i can feel tugging and struggling\",\n",
              " \"angels fight with devils and, here's what they want from me\",\n",
              " 'they asking me to eliminate some of the women hate',\n",
              " 'but if you take into consideration the bitter hatred i have',\n",
              " 'then you may be a little patient and more sympathetic to the situation',\n",
              " 'and understand the discrimination',\n",
              " \"but fuck it, life's handing you lemons, make lemonade then\",\n",
              " \"but if i can't batter the women how the fuck am i supposed to bake them a cake then?\",\n",
              " \"don't mistake it for satan\",\n",
              " \"it's a fatal mistake if you think i need to be overseas\",\n",
              " 'and take a vacation to trip a broad',\n",
              " \"and make her fall on her face and don't be a retard\",\n",
              " 'be a king? think not, why be a king when you can be a god?',\n",
              " '']"
            ]
          },
          "metadata": {
            "tags": []
          },
          "execution_count": 77
        }
      ]
    },
    {
      "cell_type": "code",
      "metadata": {
        "id": "BzsVtj9tNJlc",
        "colab_type": "code",
        "outputId": "ab7d4c38-668a-4f6f-e2ea-c382111aaf11",
        "colab": {
          "base_uri": "https://localhost:8080/",
          "height": 70
        }
      },
      "source": [
        "print(tokenizer.word_index)\n",
        "\n",
        "#total no of unique words in our text file.\n",
        "print(total_words)"
      ],
      "execution_count": 0,
      "outputs": [
        {
          "output_type": "stream",
          "text": [
            "{'a': 1, 'i': 2, 'the': 3, 'to': 4, 'you': 5, 'and': 6, \"i'm\": 7, 'in': 8, 'of': 9, 'but': 10, 'it': 11, 'like': 12, 'be': 13, 'that': 14, 'me': 15, 'rap': 16, 'my': 17, 'with': 18, 'what': 19, 'as': 20, 'get': 21, 'from': 22, 'back': 23, 'they': 24, \"it's\": 25, 'looking': 26, 'boy': 27, 'on': 28, 'for': 29, 'all': 30, 'was': 31, 'this': 32, \"don't\": 33, 'know': 34, 'if': 35, 'god': 36, 'so': 37, 'when': 38, 'make': 39, 'got': 40, 'say': 41, 'still': 42, 'at': 43, \"'cause\": 44, 'not': 45, 'can': 46, 'feel': 47, 'just': 48, 'nod': 49, 'are': 50, 'off': 51, 'fuck': 52, 'one': 53, 'while': 54, 'how': 55, 'do': 56, 'take': 57, 'your': 58, \"you're\": 59, 'think': 60, 'is': 61, 'people': 62, 'front': 63, 'now': 64, 'enough': 65, 'slap': 66, 'box': 67, 'an': 68, \"'em\": 69, 'into': 70, 'time': 71, 'have': 72, 'up': 73, 'way': 74, 'then': 75, 'go': 76, 'only': 77, 'feeling': 78, 'big': 79, 'beginning': 80, 'said': 81, 'half': 82, 'made': 83, 'these': 84, \"i'll\": 85, \"motherfuckin'\": 86, 'let': 87, 'school': 88, 'music': 89, 'hey': 90, 'day': 91, 'fame': 92, 'though': 93, 'gay': 94, 'face': 95, 'never': 96, 'through': 97, 'gotta': 98, 'king': 99, 'too': 100, 'man': 101, 'look': 102, 'gonna': 103, \"something's\": 104, 'slim': 105, 'means': 106, 'trouble': 107, 'he': 108, 'any': 109, 'were': 110, 'who': 111, 'thinks': 112, 'their': 113, 'arms': 114, 'long': 115, 'call': 116, 'ever': 117, 'since': 118, 'hell': 119, 'kill': 120, 'hip': 121, 'hop': 122, 'wanna': 123, 'same': 124, 'blow': 125, 'bombs': 126, 'rappers': 127, \"here's\": 128, 'shit': 129, \"ain't\": 130, 'hard': 131, 'everybody': 132, 'want': 133, 'well': 134, 'nothing': 135, 'shoot': 136, 'use': 137, 'rhyme': 138, 'new': 139, 'full': 140, 'doc': 141, 'them': 142, 'rock': 143, 'hall': 144, 'even': 145, 'walk': 146, 'church': 147, 'flames': 148, 'little': 149, 'straight': 150, \"that's\": 151, \"i'mma\": 152, 'keep': 153, 'nascar': 154, 'asgard': 155, 'head': 156, 'yourself': 157, 'once': 158, 'rhymes': 159, 'some': 160, 'hungry': 161, 'come': 162, 'line': 163, 'put': 164, 'coming': 165, 'fucking': 166, 'normal': 167, 'ray': 168, 'j': 169, 'fab': 170, 'oh': 171, 'uh': 172, 'lamaa': 173, 'more': 174, 'lose': 175, 'songs': 176, 'verses': 177, 'myself': 178, 'satan': 179, 'women': 180, 'mistake': 181, 'her': 182, 'easy': 183, 'hurt': 184, 'feelings': 185, 'going': 186, 'chance': 187, 'wrong': 188, 'six': 189, 'minutes': 190, 'shady': 191, \"i've\": 192, 'about': 193, 'happen': 194, \"we're\": 195, 'bananas': 196, 'taking': 197, 'chances': 198, 'doctor': 199, 'ordered': 200, 'robot': 201, 'rapbot': 202, 'computer': 203, 'must': 204, 'genes': 205, 'laptop': 206, 'pocket': 207, \"pen'll\": 208, 'cock': 209, 'fat': 210, 'knot': 211, 'profit': 212, 'living': 213, 'killing': 214, 'bill': 215, 'clinton': 216, 'office': 217, 'monica': 218, 'lewinsky': 219, 'his': 220, 'nut': 221, 'sack': 222, 'mc': 223, 'honest': 224, 'rude': 225, 'indecent': 226, 'syllables': 227, 'killaholic': 228, 'slickety': 229, 'gibbedy': 230, 'hibbedy': 231, 'really': 232, 'pissing': 233, 'match': 234, 'rappidy': 235, 'brat': 236, 'packing': 237, 'mac': 238, 'ac': 239, 'backpack': 240, 'crap': 241, 'yep': 242, 'yackidy': 243, 'yac': 244, 'exact': 245, 'attempt': 246, 'lyrical': 247, 'acrobat': 248, 'stunts': 249, 'practicing': 250, 'able': 251, 'break': 252, 'table': 253, 'over': 254, 'couple': 255, 'faggots': 256, 'crack': 257, 'realized': 258, 'ironic': 259, 'signed': 260, 'aftermath': 261, 'after': 262, 'fact': 263, 'could': 264, 'drop': 265, 'f': 266, 'wrath': 267, 'attack': 268, 'having': 269, 'rough': 270, 'period': 271, 'maxipad': 272, 'actually': 273, 'disastrously': 274, 'bad': 275, 'wack': 276, 'masterfully': 277, 'constructing': 278, 'masterpiece': 279, 'show': 280, 'maintaining': 281, 'key': 282, 'secret': 283, 'immortality': 284, 'truthful': 285, \"blueprint's\": 286, 'simply': 287, 'rage': 288, 'youthful': 289, 'exuberance': 290, 'loves': 291, 'root': 292, 'nuisance': 293, 'hit': 294, 'earth': 295, 'asteroid': 296, 'did': 297, 'moon': 298, \"mc's\": 299, 'taken': 300, 'vehicle': 301, 'bus': 302, 'lead': 303, 'students': 304, 'product': 305, 'rakim': 306, 'lakim': 307, 'shabazz': 308, '2pac': 309, 'n': 310, 'w': 311, 'cube': 312, 'ren': 313, 'yella': 314, 'eazy': 315, 'thank': 316, 'inspired': 317, 'grow': 318, 'position': 319, 'meet': 320, 'run': 321, 'dmc': 322, 'induct': 323, \"n'\": 324, 'roll': 325, 'burst': 326, 'ball': 327, 'inducted': 328, 'alcohol': 329, 'wall': 330, 'shame': 331, 'fags': 332, 'game': 333, \"'til\": 334, 'flock': 335, 'planking': 336, 'tell': 337, 'thinking': 338, 'barely': 339, 'witnessing': 340, 'mass': 341, 'occur': 342, 'watching': 343, 'gathering': 344, 'place': 345, 'oy': 346, 'vey': 347, \"boy's\": 348, 'thumbs': 349, 'pat': 350, 'label': 351, 'everyday': 352, 'yeah': 353, 'dre': 354, 'work': 355, 'everything': 356, 'ask': 357, 'nobody': 358, 'outta': 359, 'basically': 360, 'capable': 361, 'pace': 362, 'racing': 363, 'around': 364, 'track': 365, 'dale': 366, 'earnhardt': 367, 'trailer': 368, 'park': 369, 'white': 370, 'trash': 371, 'kneel': 372, 'before': 373, 'general': 374, 'zod': 375, \"planet's\": 376, 'krypton': 377, 'no': 378, 'thor': 379, 'odin': 380, 'rodent': 381, 'omnipotent': 382, 'reloading': 383, 'immediately': 384, \"totin'\": 385, 'should': 386, 'woken': 387, 'walking': 388, 'dead': 389, 'talking': 390, 'zombie': 391, 'floating': 392, 'mom': 393, 'deep': 394, 'throating': 395, 'out': 396, 'ramen': 397, 'noodle': 398, 'we': 399, 'common': 400, 'poodle': 401, 'doberman': 402, 'pinch': 403, 'arm': 404, 'pay': 405, 'homage': 406, 'pupil': 407, \"honesty's\": 408, 'brutal': 409, 'honestly': 410, 'futile': 411, 'utilize': 412, 'good': 413, 'least': 414, 'sure': 415, 'somewhere': 416, 'chicken': 417, 'scratch': 418, 'scribble': 419, 'doodle': 420, 'maybe': 421, 'try': 422, 'help': 423, 'tough': 424, 'times': 425, 'few': 426, 'punchlines': 427, 'case': 428, 'unsigned': 429, 'lunchtime': 430, 'there': 431, 'where': 432, 'underground': 433, 'pharoahe': 434, 'monch': 435, 'grind': 436, 'crunch': 437, 'sometimes': 438, 'combine': 439, 'appeal': 440, 'skin': 441, 'color': 442, 'mine': 443, 'here': 444, 'trying': 445, 'censor': 446, 'mathers': 447, 'lp': 448, 'tried': 449, 'seven': 450, 'kids': 451, 'columbine': 452, 'add': 453, 'ak': 454, '47': 455, 'revolver': 456, 'nine': 457, 'see': 458, 'away': 459, \"morphin'\": 460, 'immortal': 461, 'portal': 462, 'stuck': 463, 'warp': 464, '2004': 465, 'pointless': 466, 'rapunzel': 467, 'cornrows': 468, 'write': 469, 'being': 470, 'bought': 471, 'raygun': 472, 'future': 473, 'ya': 474, 'fabolous': 475, 'mad': 476, 'looked': 477, 'fag': 478, \"maywhether's\": 479, 'pad': 480, \"singin'\": 481, 'played': 482, 'piano': 483, '24': 484, '7': 485, 'special': 486, 'cable': 487, 'channel': 488, 'went': 489, 'radio': 490, 'station': 491, 'very': 492, 'next': 493, 'lyrics': 494, 'supersonic': 495, 'speed': 496, 'jj': 497, 'fad': 498, 'sama': 499, 'duma': 500, 'assuming': 501, 'human': 502, 'superhuman': 503, 'innovative': 504, 'rubber': 505, 'anything': 506, 'ricocheting': 507, \"it'll\": 508, 'glue': 509, 'devastating': 510, 'than': 511, 'demonstrating': 512, 'give': 513, 'audience': 514, 'levitating': 515, 'fading': 516, 'haters': 517, 'forever': 518, 'waiting': 519, 'fell': 520, \"they'd\": 521, 'celebrating': 522, 'motivated': 523, 'elevating': 524, 'elevator': 525, \"he's\": 526, 'mainstream': 527, 'jealous': 528, 'confuse': 529, 'pop': 530, 'found': 531, 'hella': 532, 'fuse': 533, 'shock': 534, 'throw': 535, 'words': 536, 'occurs': 537, 'ripping': 538, 'diverse': 539, 'curtains': 540, 'inadvertently': 541, \"hurtin'\": 542, 'many': 543, 'murder': 544, 'prove': 545, 'nice': 546, 'sacrifice': 547, 'virgins': 548, 'flunkie': 549, 'pill': 550, 'junky': 551, 'accolades': 552, 'skills': 553, 'brung': 554, 'bully': 555, 'mind': 556, 'million': 557, 'leagues': 558, 'above': 559, 'ill': 560, 'speak': 561, 'tongues': 562, 'tongue': 563, 'cheek': 564, 'drunk': 565, 'wheel': 566, 'asleep': 567, 'seat': 568, 'bumping': 569, 'heavy': 570, 'd': 571, 'boys': 572, 'chunky': 573, 'funky': 574, \"there's\": 575, 'something': 576, 'tugging': 577, 'struggling': 578, 'angels': 579, 'fight': 580, 'devils': 581, 'asking': 582, 'eliminate': 583, 'hate': 584, 'consideration': 585, 'bitter': 586, 'hatred': 587, 'may': 588, 'patient': 589, 'sympathetic': 590, 'situation': 591, 'understand': 592, 'discrimination': 593, \"life's\": 594, 'handing': 595, 'lemons': 596, 'lemonade': 597, \"can't\": 598, 'batter': 599, 'am': 600, 'supposed': 601, 'bake': 602, 'cake': 603, 'fatal': 604, 'need': 605, 'overseas': 606, 'vacation': 607, 'trip': 608, 'broad': 609, 'fall': 610, 'retard': 611, 'why': 612}\n",
            "613\n"
          ],
          "name": "stdout"
        }
      ]
    },
    {
      "cell_type": "markdown",
      "metadata": {
        "id": "e-z6p50YZNYD",
        "colab_type": "text"
      },
      "source": [
        "left: input sequence\n",
        "\n",
        "right: label\n",
        "\n",
        "I        |            label: am\n",
        "\n",
        "I am         |        label: beginning\n",
        "\n",
        "I am begining |       label: to \n",
        "\n",
        "I am beginning to |   label: feel\n",
        "\n",
        "....."
      ]
    },
    {
      "cell_type": "code",
      "metadata": {
        "id": "affsM16ONJgw",
        "colab_type": "code",
        "colab": {}
      },
      "source": [
        "input_sequences = []\n",
        "for line in corpus:\n",
        "\ttoken_list = tokenizer.texts_to_sequences([line])[0]\n",
        "\tfor i in range(1, len(token_list)):\n",
        "\t\n",
        "\t#our xs(input sequence)\n",
        "\t\tn_gram_sequence = token_list[:i+1]\n",
        "\t\tinput_sequences.append(n_gram_sequence)\n",
        "\n",
        "# pad sequences \n",
        "max_sequence_len = max([len(x) for x in input_sequences])\n",
        "input_sequences = np.array(pad_sequences(input_sequences, maxlen=max_sequence_len, padding='pre'))\n",
        "\n",
        "# create predictors and label\n",
        "xs, labels = input_sequences[:,:-1],input_sequences[:,-1]"
      ],
      "execution_count": 0,
      "outputs": []
    },
    {
      "cell_type": "code",
      "metadata": {
        "id": "eyNL3rsI9gGO",
        "colab_type": "code",
        "colab": {}
      },
      "source": [
        "#one hot encoding the labels.\n",
        "ys = tf.keras.utils.to_categorical(labels, num_classes=total_words)"
      ],
      "execution_count": 0,
      "outputs": []
    },
    {
      "cell_type": "code",
      "metadata": {
        "id": "iNAtQil9NJdb",
        "colab_type": "code",
        "outputId": "655c4054-dfe3-43ef-b6e0-e6dc07c8c7cc",
        "colab": {
          "base_uri": "https://localhost:8080/",
          "height": 34
        }
      },
      "source": [
        "print(xs[6])"
      ],
      "execution_count": 0,
      "outputs": [
        {
          "output_type": "stream",
          "text": [
            "[  0   0   0   0   0   0   0   0   0   0   0 102   2  31 103  76 183  28]\n"
          ],
          "name": "stdout"
        }
      ]
    },
    {
      "cell_type": "code",
      "metadata": {
        "id": "Cz2ll4N3PWqQ",
        "colab_type": "code",
        "outputId": "9ab5aced-9dbf-4f11-e3e8-e2aa439ab380",
        "colab": {
          "base_uri": "https://localhost:8080/",
          "height": 454
        }
      },
      "source": [
        "# length of our y vector is 1091. i.e total no of unique words in text\n",
        "print(ys[6])"
      ],
      "execution_count": 0,
      "outputs": [
        {
          "output_type": "stream",
          "text": [
            "[0. 0. 0. 0. 0. 1. 0. 0. 0. 0. 0. 0. 0. 0. 0. 0. 0. 0. 0. 0. 0. 0. 0. 0.\n",
            " 0. 0. 0. 0. 0. 0. 0. 0. 0. 0. 0. 0. 0. 0. 0. 0. 0. 0. 0. 0. 0. 0. 0. 0.\n",
            " 0. 0. 0. 0. 0. 0. 0. 0. 0. 0. 0. 0. 0. 0. 0. 0. 0. 0. 0. 0. 0. 0. 0. 0.\n",
            " 0. 0. 0. 0. 0. 0. 0. 0. 0. 0. 0. 0. 0. 0. 0. 0. 0. 0. 0. 0. 0. 0. 0. 0.\n",
            " 0. 0. 0. 0. 0. 0. 0. 0. 0. 0. 0. 0. 0. 0. 0. 0. 0. 0. 0. 0. 0. 0. 0. 0.\n",
            " 0. 0. 0. 0. 0. 0. 0. 0. 0. 0. 0. 0. 0. 0. 0. 0. 0. 0. 0. 0. 0. 0. 0. 0.\n",
            " 0. 0. 0. 0. 0. 0. 0. 0. 0. 0. 0. 0. 0. 0. 0. 0. 0. 0. 0. 0. 0. 0. 0. 0.\n",
            " 0. 0. 0. 0. 0. 0. 0. 0. 0. 0. 0. 0. 0. 0. 0. 0. 0. 0. 0. 0. 0. 0. 0. 0.\n",
            " 0. 0. 0. 0. 0. 0. 0. 0. 0. 0. 0. 0. 0. 0. 0. 0. 0. 0. 0. 0. 0. 0. 0. 0.\n",
            " 0. 0. 0. 0. 0. 0. 0. 0. 0. 0. 0. 0. 0. 0. 0. 0. 0. 0. 0. 0. 0. 0. 0. 0.\n",
            " 0. 0. 0. 0. 0. 0. 0. 0. 0. 0. 0. 0. 0. 0. 0. 0. 0. 0. 0. 0. 0. 0. 0. 0.\n",
            " 0. 0. 0. 0. 0. 0. 0. 0. 0. 0. 0. 0. 0. 0. 0. 0. 0. 0. 0. 0. 0. 0. 0. 0.\n",
            " 0. 0. 0. 0. 0. 0. 0. 0. 0. 0. 0. 0. 0. 0. 0. 0. 0. 0. 0. 0. 0. 0. 0. 0.\n",
            " 0. 0. 0. 0. 0. 0. 0. 0. 0. 0. 0. 0. 0. 0. 0. 0. 0. 0. 0. 0. 0. 0. 0. 0.\n",
            " 0. 0. 0. 0. 0. 0. 0. 0. 0. 0. 0. 0. 0. 0. 0. 0. 0. 0. 0. 0. 0. 0. 0. 0.\n",
            " 0. 0. 0. 0. 0. 0. 0. 0. 0. 0. 0. 0. 0. 0. 0. 0. 0. 0. 0. 0. 0. 0. 0. 0.\n",
            " 0. 0. 0. 0. 0. 0. 0. 0. 0. 0. 0. 0. 0. 0. 0. 0. 0. 0. 0. 0. 0. 0. 0. 0.\n",
            " 0. 0. 0. 0. 0. 0. 0. 0. 0. 0. 0. 0. 0. 0. 0. 0. 0. 0. 0. 0. 0. 0. 0. 0.\n",
            " 0. 0. 0. 0. 0. 0. 0. 0. 0. 0. 0. 0. 0. 0. 0. 0. 0. 0. 0. 0. 0. 0. 0. 0.\n",
            " 0. 0. 0. 0. 0. 0. 0. 0. 0. 0. 0. 0. 0. 0. 0. 0. 0. 0. 0. 0. 0. 0. 0. 0.\n",
            " 0. 0. 0. 0. 0. 0. 0. 0. 0. 0. 0. 0. 0. 0. 0. 0. 0. 0. 0. 0. 0. 0. 0. 0.\n",
            " 0. 0. 0. 0. 0. 0. 0. 0. 0. 0. 0. 0. 0. 0. 0. 0. 0. 0. 0. 0. 0. 0. 0. 0.\n",
            " 0. 0. 0. 0. 0. 0. 0. 0. 0. 0. 0. 0. 0. 0. 0. 0. 0. 0. 0. 0. 0. 0. 0. 0.\n",
            " 0. 0. 0. 0. 0. 0. 0. 0. 0. 0. 0. 0. 0. 0. 0. 0. 0. 0. 0. 0. 0. 0. 0. 0.\n",
            " 0. 0. 0. 0. 0. 0. 0. 0. 0. 0. 0. 0. 0. 0. 0. 0. 0. 0. 0. 0. 0. 0. 0. 0.\n",
            " 0. 0. 0. 0. 0. 0. 0. 0. 0. 0. 0. 0. 0.]\n"
          ],
          "name": "stdout"
        }
      ]
    },
    {
      "cell_type": "code",
      "metadata": {
        "id": "k3c08nq_PZET",
        "colab_type": "code",
        "outputId": "8a314a49-036f-4e45-8ee5-c02bd51860ff",
        "colab": {
          "base_uri": "https://localhost:8080/",
          "height": 54
        }
      },
      "source": [
        "print(tokenizer.word_index)"
      ],
      "execution_count": 0,
      "outputs": [
        {
          "output_type": "stream",
          "text": [
            "{'a': 1, 'i': 2, 'the': 3, 'to': 4, 'you': 5, 'and': 6, \"i'm\": 7, 'in': 8, 'of': 9, 'but': 10, 'it': 11, 'like': 12, 'be': 13, 'that': 14, 'me': 15, 'rap': 16, 'my': 17, 'with': 18, 'what': 19, 'as': 20, 'get': 21, 'from': 22, 'back': 23, 'they': 24, \"it's\": 25, 'looking': 26, 'boy': 27, 'on': 28, 'for': 29, 'all': 30, 'was': 31, 'this': 32, \"don't\": 33, 'know': 34, 'if': 35, 'god': 36, 'so': 37, 'when': 38, 'make': 39, 'got': 40, 'say': 41, 'still': 42, 'at': 43, \"'cause\": 44, 'not': 45, 'can': 46, 'feel': 47, 'just': 48, 'nod': 49, 'are': 50, 'off': 51, 'fuck': 52, 'one': 53, 'while': 54, 'how': 55, 'do': 56, 'take': 57, 'your': 58, \"you're\": 59, 'think': 60, 'is': 61, 'people': 62, 'front': 63, 'now': 64, 'enough': 65, 'slap': 66, 'box': 67, 'an': 68, \"'em\": 69, 'into': 70, 'time': 71, 'have': 72, 'up': 73, 'way': 74, 'then': 75, 'go': 76, 'only': 77, 'feeling': 78, 'big': 79, 'beginning': 80, 'said': 81, 'half': 82, 'made': 83, 'these': 84, \"i'll\": 85, \"motherfuckin'\": 86, 'let': 87, 'school': 88, 'music': 89, 'hey': 90, 'day': 91, 'fame': 92, 'though': 93, 'gay': 94, 'face': 95, 'never': 96, 'through': 97, 'gotta': 98, 'king': 99, 'too': 100, 'man': 101, 'look': 102, 'gonna': 103, \"something's\": 104, 'slim': 105, 'means': 106, 'trouble': 107, 'he': 108, 'any': 109, 'were': 110, 'who': 111, 'thinks': 112, 'their': 113, 'arms': 114, 'long': 115, 'call': 116, 'ever': 117, 'since': 118, 'hell': 119, 'kill': 120, 'hip': 121, 'hop': 122, 'wanna': 123, 'same': 124, 'blow': 125, 'bombs': 126, 'rappers': 127, \"here's\": 128, 'shit': 129, \"ain't\": 130, 'hard': 131, 'everybody': 132, 'want': 133, 'well': 134, 'nothing': 135, 'shoot': 136, 'use': 137, 'rhyme': 138, 'new': 139, 'full': 140, 'doc': 141, 'them': 142, 'rock': 143, 'hall': 144, 'even': 145, 'walk': 146, 'church': 147, 'flames': 148, 'little': 149, 'straight': 150, \"that's\": 151, \"i'mma\": 152, 'keep': 153, 'nascar': 154, 'asgard': 155, 'head': 156, 'yourself': 157, 'once': 158, 'rhymes': 159, 'some': 160, 'hungry': 161, 'come': 162, 'line': 163, 'put': 164, 'coming': 165, 'fucking': 166, 'normal': 167, 'ray': 168, 'j': 169, 'fab': 170, 'oh': 171, 'uh': 172, 'lamaa': 173, 'more': 174, 'lose': 175, 'songs': 176, 'verses': 177, 'myself': 178, 'satan': 179, 'women': 180, 'mistake': 181, 'her': 182, 'easy': 183, 'hurt': 184, 'feelings': 185, 'going': 186, 'chance': 187, 'wrong': 188, 'six': 189, 'minutes': 190, 'shady': 191, \"i've\": 192, 'about': 193, 'happen': 194, \"we're\": 195, 'bananas': 196, 'taking': 197, 'chances': 198, 'doctor': 199, 'ordered': 200, 'robot': 201, 'rapbot': 202, 'computer': 203, 'must': 204, 'genes': 205, 'laptop': 206, 'pocket': 207, \"pen'll\": 208, 'cock': 209, 'fat': 210, 'knot': 211, 'profit': 212, 'living': 213, 'killing': 214, 'bill': 215, 'clinton': 216, 'office': 217, 'monica': 218, 'lewinsky': 219, 'his': 220, 'nut': 221, 'sack': 222, 'mc': 223, 'honest': 224, 'rude': 225, 'indecent': 226, 'syllables': 227, 'killaholic': 228, 'slickety': 229, 'gibbedy': 230, 'hibbedy': 231, 'really': 232, 'pissing': 233, 'match': 234, 'rappidy': 235, 'brat': 236, 'packing': 237, 'mac': 238, 'ac': 239, 'backpack': 240, 'crap': 241, 'yep': 242, 'yackidy': 243, 'yac': 244, 'exact': 245, 'attempt': 246, 'lyrical': 247, 'acrobat': 248, 'stunts': 249, 'practicing': 250, 'able': 251, 'break': 252, 'table': 253, 'over': 254, 'couple': 255, 'faggots': 256, 'crack': 257, 'realized': 258, 'ironic': 259, 'signed': 260, 'aftermath': 261, 'after': 262, 'fact': 263, 'could': 264, 'drop': 265, 'f': 266, 'wrath': 267, 'attack': 268, 'having': 269, 'rough': 270, 'period': 271, 'maxipad': 272, 'actually': 273, 'disastrously': 274, 'bad': 275, 'wack': 276, 'masterfully': 277, 'constructing': 278, 'masterpiece': 279, 'show': 280, 'maintaining': 281, 'key': 282, 'secret': 283, 'immortality': 284, 'truthful': 285, \"blueprint's\": 286, 'simply': 287, 'rage': 288, 'youthful': 289, 'exuberance': 290, 'loves': 291, 'root': 292, 'nuisance': 293, 'hit': 294, 'earth': 295, 'asteroid': 296, 'did': 297, 'moon': 298, \"mc's\": 299, 'taken': 300, 'vehicle': 301, 'bus': 302, 'lead': 303, 'students': 304, 'product': 305, 'rakim': 306, 'lakim': 307, 'shabazz': 308, '2pac': 309, 'n': 310, 'w': 311, 'cube': 312, 'ren': 313, 'yella': 314, 'eazy': 315, 'thank': 316, 'inspired': 317, 'grow': 318, 'position': 319, 'meet': 320, 'run': 321, 'dmc': 322, 'induct': 323, \"n'\": 324, 'roll': 325, 'burst': 326, 'ball': 327, 'inducted': 328, 'alcohol': 329, 'wall': 330, 'shame': 331, 'fags': 332, 'game': 333, \"'til\": 334, 'flock': 335, 'planking': 336, 'tell': 337, 'thinking': 338, 'barely': 339, 'witnessing': 340, 'mass': 341, 'occur': 342, 'watching': 343, 'gathering': 344, 'place': 345, 'oy': 346, 'vey': 347, \"boy's\": 348, 'thumbs': 349, 'pat': 350, 'label': 351, 'everyday': 352, 'yeah': 353, 'dre': 354, 'work': 355, 'everything': 356, 'ask': 357, 'nobody': 358, 'outta': 359, 'basically': 360, 'capable': 361, 'pace': 362, 'racing': 363, 'around': 364, 'track': 365, 'dale': 366, 'earnhardt': 367, 'trailer': 368, 'park': 369, 'white': 370, 'trash': 371, 'kneel': 372, 'before': 373, 'general': 374, 'zod': 375, \"planet's\": 376, 'krypton': 377, 'no': 378, 'thor': 379, 'odin': 380, 'rodent': 381, 'omnipotent': 382, 'reloading': 383, 'immediately': 384, \"totin'\": 385, 'should': 386, 'woken': 387, 'walking': 388, 'dead': 389, 'talking': 390, 'zombie': 391, 'floating': 392, 'mom': 393, 'deep': 394, 'throating': 395, 'out': 396, 'ramen': 397, 'noodle': 398, 'we': 399, 'common': 400, 'poodle': 401, 'doberman': 402, 'pinch': 403, 'arm': 404, 'pay': 405, 'homage': 406, 'pupil': 407, \"honesty's\": 408, 'brutal': 409, 'honestly': 410, 'futile': 411, 'utilize': 412, 'good': 413, 'least': 414, 'sure': 415, 'somewhere': 416, 'chicken': 417, 'scratch': 418, 'scribble': 419, 'doodle': 420, 'maybe': 421, 'try': 422, 'help': 423, 'tough': 424, 'times': 425, 'few': 426, 'punchlines': 427, 'case': 428, 'unsigned': 429, 'lunchtime': 430, 'there': 431, 'where': 432, 'underground': 433, 'pharoahe': 434, 'monch': 435, 'grind': 436, 'crunch': 437, 'sometimes': 438, 'combine': 439, 'appeal': 440, 'skin': 441, 'color': 442, 'mine': 443, 'here': 444, 'trying': 445, 'censor': 446, 'mathers': 447, 'lp': 448, 'tried': 449, 'seven': 450, 'kids': 451, 'columbine': 452, 'add': 453, 'ak': 454, '47': 455, 'revolver': 456, 'nine': 457, 'see': 458, 'away': 459, \"morphin'\": 460, 'immortal': 461, 'portal': 462, 'stuck': 463, 'warp': 464, '2004': 465, 'pointless': 466, 'rapunzel': 467, 'cornrows': 468, 'write': 469, 'being': 470, 'bought': 471, 'raygun': 472, 'future': 473, 'ya': 474, 'fabolous': 475, 'mad': 476, 'looked': 477, 'fag': 478, \"maywhether's\": 479, 'pad': 480, \"singin'\": 481, 'played': 482, 'piano': 483, '24': 484, '7': 485, 'special': 486, 'cable': 487, 'channel': 488, 'went': 489, 'radio': 490, 'station': 491, 'very': 492, 'next': 493, 'lyrics': 494, 'supersonic': 495, 'speed': 496, 'jj': 497, 'fad': 498, 'sama': 499, 'duma': 500, 'assuming': 501, 'human': 502, 'superhuman': 503, 'innovative': 504, 'rubber': 505, 'anything': 506, 'ricocheting': 507, \"it'll\": 508, 'glue': 509, 'devastating': 510, 'than': 511, 'demonstrating': 512, 'give': 513, 'audience': 514, 'levitating': 515, 'fading': 516, 'haters': 517, 'forever': 518, 'waiting': 519, 'fell': 520, \"they'd\": 521, 'celebrating': 522, 'motivated': 523, 'elevating': 524, 'elevator': 525, \"he's\": 526, 'mainstream': 527, 'jealous': 528, 'confuse': 529, 'pop': 530, 'found': 531, 'hella': 532, 'fuse': 533, 'shock': 534, 'throw': 535, 'words': 536, 'occurs': 537, 'ripping': 538, 'diverse': 539, 'curtains': 540, 'inadvertently': 541, \"hurtin'\": 542, 'many': 543, 'murder': 544, 'prove': 545, 'nice': 546, 'sacrifice': 547, 'virgins': 548, 'flunkie': 549, 'pill': 550, 'junky': 551, 'accolades': 552, 'skills': 553, 'brung': 554, 'bully': 555, 'mind': 556, 'million': 557, 'leagues': 558, 'above': 559, 'ill': 560, 'speak': 561, 'tongues': 562, 'tongue': 563, 'cheek': 564, 'drunk': 565, 'wheel': 566, 'asleep': 567, 'seat': 568, 'bumping': 569, 'heavy': 570, 'd': 571, 'boys': 572, 'chunky': 573, 'funky': 574, \"there's\": 575, 'something': 576, 'tugging': 577, 'struggling': 578, 'angels': 579, 'fight': 580, 'devils': 581, 'asking': 582, 'eliminate': 583, 'hate': 584, 'consideration': 585, 'bitter': 586, 'hatred': 587, 'may': 588, 'patient': 589, 'sympathetic': 590, 'situation': 591, 'understand': 592, 'discrimination': 593, \"life's\": 594, 'handing': 595, 'lemons': 596, 'lemonade': 597, \"can't\": 598, 'batter': 599, 'am': 600, 'supposed': 601, 'bake': 602, 'cake': 603, 'fatal': 604, 'need': 605, 'overseas': 606, 'vacation': 607, 'trip': 608, 'broad': 609, 'fall': 610, 'retard': 611, 'why': 612}\n"
          ],
          "name": "stdout"
        }
      ]
    },
    {
      "cell_type": "markdown",
      "metadata": {
        "id": "ly0W8nSF-CbY",
        "colab_type": "text"
      },
      "source": [
        "Neural Net with two Bidirectional LSTMs stacked and a dense output  layer preceding it"
      ]
    },
    {
      "cell_type": "code",
      "metadata": {
        "id": "1BWRKCQAPZCb",
        "colab_type": "code",
        "colab": {}
      },
      "source": [
        "model = Sequential()\n",
        "model.add(Embedding(total_words, 100, input_length=max_sequence_len-1))\n",
        "model.add(Bidirectional(LSTM(120, return_sequences = True)))\n",
        "\n",
        "model.add(Bidirectional(LSTM(120)))\n",
        "\n",
        "#softmax function with the length of one hot encoded vector equal to the total no of unique words in the text.\n",
        "model.add(Dense(total_words, activation='softmax'))\n"
      ],
      "execution_count": 0,
      "outputs": []
    },
    {
      "cell_type": "code",
      "metadata": {
        "id": "rAMxidgw_vm3",
        "colab_type": "code",
        "outputId": "6b59f73b-f625-4323-e39e-26c3ec584b4c",
        "colab": {
          "base_uri": "https://localhost:8080/",
          "height": 286
        }
      },
      "source": [
        "#compile\n",
        "adam = Adam(lr=0.01)\n",
        "model.compile(loss='categorical_crossentropy', optimizer=adam, metrics=['accuracy'])\n",
        "model.summary()"
      ],
      "execution_count": 0,
      "outputs": [
        {
          "output_type": "stream",
          "text": [
            "Model: \"sequential_14\"\n",
            "_________________________________________________________________\n",
            "Layer (type)                 Output Shape              Param #   \n",
            "=================================================================\n",
            "embedding_14 (Embedding)     (None, 18, 100)           61300     \n",
            "_________________________________________________________________\n",
            "bidirectional_30 (Bidirectio (None, 18, 240)           212160    \n",
            "_________________________________________________________________\n",
            "bidirectional_31 (Bidirectio (None, 240)               346560    \n",
            "_________________________________________________________________\n",
            "dense_19 (Dense)             (None, 613)               147733    \n",
            "=================================================================\n",
            "Total params: 767,753\n",
            "Trainable params: 767,753\n",
            "Non-trainable params: 0\n",
            "_________________________________________________________________\n"
          ],
          "name": "stdout"
        }
      ]
    },
    {
      "cell_type": "code",
      "metadata": {
        "id": "I7NlHgfkR3mx",
        "colab_type": "code",
        "outputId": "19f7472a-aeb2-460c-ce21-a79e08d4dcb6",
        "colab": {
          "base_uri": "https://localhost:8080/",
          "height": 1000
        }
      },
      "source": [
        "\n",
        "history = model.fit(xs, ys, epochs=40, verbose=1)\n",
        "#print model.summary()\n",
        "print(model)"
      ],
      "execution_count": 0,
      "outputs": [
        {
          "output_type": "stream",
          "text": [
            "Epoch 1/40\n",
            "44/44 [==============================] - 5s 107ms/step - loss: 6.1511 - accuracy: 0.0321\n",
            "Epoch 2/40\n",
            "44/44 [==============================] - 5s 108ms/step - loss: 5.7834 - accuracy: 0.0335\n",
            "Epoch 3/40\n",
            "44/44 [==============================] - 5s 110ms/step - loss: 5.4611 - accuracy: 0.0450\n",
            "Epoch 4/40\n",
            "44/44 [==============================] - 5s 111ms/step - loss: 5.2027 - accuracy: 0.0799\n",
            "Epoch 5/40\n",
            "44/44 [==============================] - 5s 110ms/step - loss: 4.8440 - accuracy: 0.1135\n",
            "Epoch 6/40\n",
            "44/44 [==============================] - 5s 112ms/step - loss: 4.4671 - accuracy: 0.1363\n",
            "Epoch 7/40\n",
            "44/44 [==============================] - 5s 113ms/step - loss: 4.0709 - accuracy: 0.1635\n",
            "Epoch 8/40\n",
            "44/44 [==============================] - 5s 114ms/step - loss: 3.7198 - accuracy: 0.2213\n",
            "Epoch 9/40\n",
            "44/44 [==============================] - 5s 112ms/step - loss: 3.3544 - accuracy: 0.2470\n",
            "Epoch 10/40\n",
            "44/44 [==============================] - 5s 112ms/step - loss: 2.9833 - accuracy: 0.3019\n",
            "Epoch 11/40\n",
            "44/44 [==============================] - 5s 111ms/step - loss: 2.5247 - accuracy: 0.3876\n",
            "Epoch 12/40\n",
            "44/44 [==============================] - 5s 111ms/step - loss: 2.1383 - accuracy: 0.4718\n",
            "Epoch 13/40\n",
            "44/44 [==============================] - 5s 112ms/step - loss: 1.7933 - accuracy: 0.5596\n",
            "Epoch 14/40\n",
            "44/44 [==============================] - 5s 113ms/step - loss: 1.4434 - accuracy: 0.6531\n",
            "Epoch 15/40\n",
            "44/44 [==============================] - 5s 113ms/step - loss: 1.1994 - accuracy: 0.7016\n",
            "Epoch 16/40\n",
            "44/44 [==============================] - 5s 112ms/step - loss: 0.9619 - accuracy: 0.7730\n",
            "Epoch 17/40\n",
            "44/44 [==============================] - 5s 110ms/step - loss: 0.7869 - accuracy: 0.8187\n",
            "Epoch 18/40\n",
            "44/44 [==============================] - 5s 110ms/step - loss: 0.6470 - accuracy: 0.8373\n",
            "Epoch 19/40\n",
            "44/44 [==============================] - 5s 110ms/step - loss: 0.5485 - accuracy: 0.8701\n",
            "Epoch 20/40\n",
            "44/44 [==============================] - 5s 111ms/step - loss: 0.4376 - accuracy: 0.8922\n",
            "Epoch 21/40\n",
            "44/44 [==============================] - 5s 113ms/step - loss: 0.3725 - accuracy: 0.9001\n",
            "Epoch 22/40\n",
            "44/44 [==============================] - 5s 113ms/step - loss: 0.3083 - accuracy: 0.9143\n",
            "Epoch 23/40\n",
            "44/44 [==============================] - 5s 114ms/step - loss: 0.2788 - accuracy: 0.9193\n",
            "Epoch 24/40\n",
            "44/44 [==============================] - 5s 113ms/step - loss: 0.2509 - accuracy: 0.9236\n",
            "Epoch 25/40\n",
            "44/44 [==============================] - 5s 112ms/step - loss: 0.2251 - accuracy: 0.9279\n",
            "Epoch 26/40\n",
            "44/44 [==============================] - 5s 115ms/step - loss: 0.2165 - accuracy: 0.9293\n",
            "Epoch 27/40\n",
            "44/44 [==============================] - 5s 113ms/step - loss: 0.2016 - accuracy: 0.9329\n",
            "Epoch 28/40\n",
            "44/44 [==============================] - 5s 114ms/step - loss: 0.1922 - accuracy: 0.9308\n",
            "Epoch 29/40\n",
            "44/44 [==============================] - 5s 112ms/step - loss: 0.1802 - accuracy: 0.9358\n",
            "Epoch 30/40\n",
            "44/44 [==============================] - 5s 113ms/step - loss: 0.1733 - accuracy: 0.9336\n",
            "Epoch 31/40\n",
            "44/44 [==============================] - 5s 114ms/step - loss: 0.1666 - accuracy: 0.9372\n",
            "Epoch 32/40\n",
            "44/44 [==============================] - 5s 114ms/step - loss: 0.1593 - accuracy: 0.9379\n",
            "Epoch 33/40\n",
            "44/44 [==============================] - 5s 114ms/step - loss: 0.1599 - accuracy: 0.9372\n",
            "Epoch 34/40\n",
            "44/44 [==============================] - 5s 114ms/step - loss: 0.1551 - accuracy: 0.9379\n",
            "Epoch 35/40\n",
            "44/44 [==============================] - 5s 115ms/step - loss: 0.1535 - accuracy: 0.9393\n",
            "Epoch 36/40\n",
            "44/44 [==============================] - 5s 112ms/step - loss: 0.1534 - accuracy: 0.9343\n",
            "Epoch 37/40\n",
            "44/44 [==============================] - 5s 113ms/step - loss: 0.1549 - accuracy: 0.9365\n",
            "Epoch 38/40\n",
            "44/44 [==============================] - 5s 118ms/step - loss: 0.1489 - accuracy: 0.9379\n",
            "Epoch 39/40\n",
            "44/44 [==============================] - 5s 115ms/step - loss: 0.1535 - accuracy: 0.9322\n",
            "Epoch 40/40\n",
            "44/44 [==============================] - 5s 113ms/step - loss: 0.1466 - accuracy: 0.9408\n",
            "<tensorflow.python.keras.engine.sequential.Sequential object at 0x7fdc58f3a400>\n"
          ],
          "name": "stdout"
        }
      ]
    },
    {
      "cell_type": "code",
      "metadata": {
        "id": "wEMkJVtYPZAF",
        "colab_type": "code",
        "colab": {}
      },
      "source": [
        "import matplotlib.pyplot as plt"
      ],
      "execution_count": 0,
      "outputs": []
    },
    {
      "cell_type": "code",
      "metadata": {
        "id": "gP7l6l9nPY9M",
        "colab_type": "code",
        "outputId": "593e59ee-4400-4836-9980-66c3f6bf1f2a",
        "colab": {
          "base_uri": "https://localhost:8080/",
          "height": 545
        }
      },
      "source": [
        "#plot accuracy and loss\n",
        "acc = history.history['accuracy']\n",
        "loss = history.history['loss']\n",
        "\n",
        "epochs = range(len(acc))\n",
        "\n",
        "plt.plot(epochs, acc, 'b', label='Training accuracy')\n",
        "plt.title('Training accuracy')\n",
        "\n",
        "plt.figure()\n",
        "\n",
        "plt.plot(epochs, loss, 'b', label='Training Loss')\n",
        "plt.title('Training loss')\n",
        "plt.legend()\n",
        "\n",
        "plt.show()\n"
      ],
      "execution_count": 0,
      "outputs": [
        {
          "output_type": "display_data",
          "data": {
            "image/png": "[encoded data removed]",
            "text/plain": [
              "<Figure size 432x288 with 1 Axes>"
            ]
          },
          "metadata": {
            "tags": [],
            "needs_background": "light"
          }
        },
        {
          "output_type": "display_data",
          "data": {
            "image/png": "[encoded data removed]",
            "text/plain": [
              "<Figure size 432x288 with 1 Axes>"
            ]
          },
          "metadata": {
            "tags": [],
            "needs_background": "light"
          }
        }
      ]
    },
    {
      "cell_type": "markdown",
      "metadata": {
        "id": "-eTvfIB0AUat",
        "colab_type": "text"
      },
      "source": [
        "."
      ]
    },
    {
      "cell_type": "markdown",
      "metadata": {
        "id": "NNontKCiAUQR",
        "colab_type": "text"
      },
      "source": [
        "."
      ]
    },
    {
      "cell_type": "markdown",
      "metadata": {
        "id": "KWkaz1drAUIi",
        "colab_type": "text"
      },
      "source": [
        "#Now let's generate some new lyrics for Eminem."
      ]
    },
    {
      "cell_type": "code",
      "metadata": {
        "id": "lDhj8uh-PY6N",
        "colab_type": "code",
        "outputId": "6741b203-6a58-4729-dcfc-3488ed9376da",
        "colab": {
          "base_uri": "https://localhost:8080/",
          "height": 54
        }
      },
      "source": [
        "#seed text is the input we give and 30 next words is the output we get\n",
        "\n",
        "seed_text = \"I'm beginning to feel like a Rap God\"\n",
        "next_words = 30\n",
        "  \n",
        "for _ in range(next_words):\n",
        "\ttoken_list = tokenizer.texts_to_sequences([seed_text])[0]\n",
        "\ttoken_list = pad_sequences([token_list], maxlen=max_sequence_len-1, padding='pre')\n",
        "\tpredicted = model.predict_classes(token_list, verbose=0)\n",
        "\toutput_word = \"\"\n",
        "\tfor word, index in tokenizer.word_index.items():\n",
        "\t\tif index == predicted:\n",
        "\t\t\toutput_word = word\n",
        "\t\t\tbreak\n",
        "\tseed_text += \" \" + output_word\n",
        "print(seed_text)"
      ],
      "execution_count": 0,
      "outputs": [
        {
          "output_type": "stream",
          "text": [
            "I'm beginning to feel like a Rap God rap god rap god rap god rap god rap god wrath of attack attack attack attack attack then i'm practicing wrath of attack then i'm then i'm then i'm cake\n"
          ],
          "name": "stdout"
        }
      ]
    },
    {
      "cell_type": "code",
      "metadata": {
        "id": "_M8i2Vl5a-bF",
        "colab_type": "code",
        "outputId": "b18781bf-f616-44c0-94d4-d1be3cd4c13c",
        "colab": {
          "base_uri": "https://localhost:8080/",
          "height": 54
        }
      },
      "source": [
        "#Same here. seed text is the input we give and 30 next words is the output we get\n",
        "\n",
        "seed_text = \"Everybody want the key and the secret to rap immortality like I have got\"\n",
        "next_words = 30\n",
        "  \n",
        "for _ in range(next_words):\n",
        "\ttoken_list = tokenizer.texts_to_sequences([seed_text])[0]\n",
        "\ttoken_list = pad_sequences([token_list], maxlen=max_sequence_len-1, padding='pre')\n",
        "\tpredicted = model.predict_classes(token_list, verbose=0)\n",
        "\toutput_word = \"\"\n",
        "\tfor word, index in tokenizer.word_index.items():\n",
        "\t\tif index == predicted:\n",
        "\t\t\toutput_word = word\n",
        "\t\t\tbreak\n",
        "\tseed_text += \" \" + output_word\n",
        "print(seed_text)"
      ],
      "execution_count": 0,
      "outputs": [
        {
          "output_type": "stream",
          "text": [
            "Everybody want the key and the secret to rap immortality like I have got a mathers lp my was then i'm then i'm then i'm then i'm bake them a cake then you bake them a cake then but bake them but i'm were\n"
          ],
          "name": "stdout"
        }
      ]
    },
    {
      "cell_type": "markdown",
      "metadata": {
        "id": "irhDJHmYXekC",
        "colab_type": "text"
      },
      "source": [
        "#Conclusion\n",
        "\n",
        "There were a few grammatical mistakes in the lyrics generated and a lot of unnecessary repetition. The reason is our model is basically a text predictor which can predict a few words after we give an input as a seed text. if we try to predict lots of words like i did above 20 words, there will be repition and grammatical errors. The errors can be decreased by training a large network on a corpus containing billions of sentences on a powerful computer ofcourse which is not possible on Google Colab.\n",
        "This concept of text prediction is also used in Automated Image Captioning."
      ]
    }
  ]
}